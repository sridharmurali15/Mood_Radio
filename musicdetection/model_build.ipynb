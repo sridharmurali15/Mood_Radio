{
  "nbformat": 4,
  "nbformat_minor": 0,
  "metadata": {
    "colab": {
      "name": "model_build_moodradio.ipynb",
      "provenance": []
    },
    "kernelspec": {
      "display_name": "Python 3",
      "name": "python3"
    },
    "language_info": {
      "name": "python"
    }
  },
  "cells": [
    {
      "cell_type": "code",
      "metadata": {
        "id": "7st_TjpTKbV2"
      },
      "source": [
        "import pandas as pd\n",
        "import numpy as np\n",
        "import matplotlib.pyplot as plt\n",
        "from sklearn.preprocessing import LabelEncoder,MinMaxScaler\n",
        "from sklearn.model_selection import train_test_split\n",
        "import seaborn as sns\n",
        "from imblearn.over_sampling import RandomOverSampler\n",
        "from sklearn.metrics import precision_recall_fscore_support"
      ],
      "execution_count": null,
      "outputs": []
    },
    {
      "cell_type": "code",
      "metadata": {
        "id": "5e_lj2KlKifN"
      },
      "source": [
        "df = pd.read_csv('labelled-billboard-lyrics-spotify.csv',index_col=0)\n",
        "df.dropna(inplace=True)"
      ],
      "execution_count": null,
      "outputs": []
    },
    {
      "cell_type": "code",
      "metadata": {
        "colab": {
          "base_uri": "https://localhost:8080/",
          "height": 204
        },
        "id": "RmKD5mUdKkEJ",
        "outputId": "c05db501-3c84-40c0-9cdf-888a977bebec"
      },
      "source": [
        "df.head()"
      ],
      "execution_count": null,
      "outputs": [
        {
          "output_type": "execute_result",
          "data": {
            "text/html": [
              "<div>\n",
              "<style scoped>\n",
              "    .dataframe tbody tr th:only-of-type {\n",
              "        vertical-align: middle;\n",
              "    }\n",
              "\n",
              "    .dataframe tbody tr th {\n",
              "        vertical-align: top;\n",
              "    }\n",
              "\n",
              "    .dataframe thead th {\n",
              "        text-align: right;\n",
              "    }\n",
              "</style>\n",
              "<table border=\"1\" class=\"dataframe\">\n",
              "  <thead>\n",
              "    <tr style=\"text-align: right;\">\n",
              "      <th></th>\n",
              "      <th>danceability</th>\n",
              "      <th>energy</th>\n",
              "      <th>loudness</th>\n",
              "      <th>valence</th>\n",
              "      <th>acousticness</th>\n",
              "      <th>instrumentalness</th>\n",
              "      <th>tempo</th>\n",
              "      <th>kmeans</th>\n",
              "    </tr>\n",
              "  </thead>\n",
              "  <tbody>\n",
              "    <tr>\n",
              "      <th>0</th>\n",
              "      <td>0.466</td>\n",
              "      <td>0.3890</td>\n",
              "      <td>-12.825</td>\n",
              "      <td>0.749</td>\n",
              "      <td>0.631</td>\n",
              "      <td>0.843000</td>\n",
              "      <td>92.631</td>\n",
              "      <td>0</td>\n",
              "    </tr>\n",
              "    <tr>\n",
              "      <th>1</th>\n",
              "      <td>0.554</td>\n",
              "      <td>0.1860</td>\n",
              "      <td>-15.846</td>\n",
              "      <td>0.200</td>\n",
              "      <td>0.909</td>\n",
              "      <td>0.001440</td>\n",
              "      <td>81.181</td>\n",
              "      <td>0</td>\n",
              "    </tr>\n",
              "    <tr>\n",
              "      <th>2</th>\n",
              "      <td>0.498</td>\n",
              "      <td>0.5820</td>\n",
              "      <td>-8.961</td>\n",
              "      <td>0.866</td>\n",
              "      <td>0.412</td>\n",
              "      <td>0.000000</td>\n",
              "      <td>119.809</td>\n",
              "      <td>1</td>\n",
              "    </tr>\n",
              "    <tr>\n",
              "      <th>3</th>\n",
              "      <td>0.772</td>\n",
              "      <td>0.2970</td>\n",
              "      <td>-14.679</td>\n",
              "      <td>0.822</td>\n",
              "      <td>0.854</td>\n",
              "      <td>0.000008</td>\n",
              "      <td>119.987</td>\n",
              "      <td>0</td>\n",
              "    </tr>\n",
              "    <tr>\n",
              "      <th>4</th>\n",
              "      <td>0.570</td>\n",
              "      <td>0.0636</td>\n",
              "      <td>-18.548</td>\n",
              "      <td>0.282</td>\n",
              "      <td>0.936</td>\n",
              "      <td>0.000000</td>\n",
              "      <td>101.517</td>\n",
              "      <td>0</td>\n",
              "    </tr>\n",
              "  </tbody>\n",
              "</table>\n",
              "</div>"
            ],
            "text/plain": [
              "   danceability  energy  loudness  ...  instrumentalness    tempo  kmeans\n",
              "0         0.466  0.3890   -12.825  ...          0.843000   92.631       0\n",
              "1         0.554  0.1860   -15.846  ...          0.001440   81.181       0\n",
              "2         0.498  0.5820    -8.961  ...          0.000000  119.809       1\n",
              "3         0.772  0.2970   -14.679  ...          0.000008  119.987       0\n",
              "4         0.570  0.0636   -18.548  ...          0.000000  101.517       0\n",
              "\n",
              "[5 rows x 8 columns]"
            ]
          },
          "metadata": {},
          "execution_count": 50
        }
      ]
    },
    {
      "cell_type": "code",
      "metadata": {
        "id": "yWpZGtuCKlCP"
      },
      "source": [
        "X = df.drop(['kmeans'],axis=1)\n",
        "Y = df['kmeans']\n",
        "#Normalize the features\n",
        "X= MinMaxScaler().fit_transform(X)\n",
        "#Encode the labels (targets)\n",
        "encoder = LabelEncoder()\n",
        "encoder.fit(Y)\n",
        "encoded_y = encoder.transform(Y)\n",
        "#Split train and test data with a test size of 20%\n",
        "X_train,X_test,Y_train,Y_test = train_test_split(X,encoded_y,test_size=0.2,random_state=15)"
      ],
      "execution_count": null,
      "outputs": []
    },
    {
      "cell_type": "code",
      "metadata": {
        "colab": {
          "base_uri": "https://localhost:8080/"
        },
        "id": "mpe5mNOalt4z",
        "outputId": "b36517ed-7568-4194-bf1b-a568e18ac802"
      },
      "source": [
        "# sampling the dataset for equal number of labels for 'happy' and 'sad'\n",
        "oversample = RandomOverSampler()\n",
        "X_train, Y_train = oversample.fit_resample(X_train, Y_train)"
      ],
      "execution_count": null,
      "outputs": [
        {
          "output_type": "stream",
          "name": "stderr",
          "text": [
            "/usr/local/lib/python3.7/dist-packages/sklearn/utils/deprecation.py:87: FutureWarning: Function safe_indexing is deprecated; safe_indexing is deprecated in version 0.22 and will be removed in version 0.24.\n",
            "  warnings.warn(msg, category=FutureWarning)\n"
          ]
        }
      ]
    },
    {
      "cell_type": "code",
      "metadata": {
        "id": "-rYrXGE8KmK9"
      },
      "source": [
        "#Libraries to create the Multi-class Neural Network\n",
        "from keras.models import Sequential\n",
        "from keras.layers import Dense\n",
        "from keras.wrappers.scikit_learn import KerasClassifier\n",
        "from keras.utils import np_utils\n",
        "#Import tensorflow and disable the v2 behavior and eager mode\n",
        "import tensorflow as tf\n",
        "tf.compat.v1.disable_eager_execution()\n",
        "tf.compat.v1.disable_v2_behavior()"
      ],
      "execution_count": null,
      "outputs": []
    },
    {
      "cell_type": "code",
      "metadata": {
        "colab": {
          "base_uri": "https://localhost:8080/"
        },
        "id": "8d8Gor-SKnyf",
        "outputId": "9262b127-755b-4d49-97e5-c7c599d71d91"
      },
      "source": [
        "#Create the model\n",
        "model = Sequential()\n",
        "model.add(Dense(16,input_dim=7,activation='relu'))\n",
        "model.add(Dense(8,activation='relu'))\n",
        "model.add(Dense(2,activation='sigmoid'))\n",
        "#Compile the model using logistic loss function and adam     optimizer, accuracy correspond to the metric displayed\n",
        "model.compile(loss='sparse_categorical_crossentropy',optimizer='adam',metrics=['accuracy'])\n",
        "model.summary()"
      ],
      "execution_count": null,
      "outputs": [
        {
          "output_type": "stream",
          "name": "stdout",
          "text": [
            "Model: \"sequential_1\"\n",
            "_________________________________________________________________\n",
            "Layer (type)                 Output Shape              Param #   \n",
            "=================================================================\n",
            "dense_3 (Dense)              (None, 16)                128       \n",
            "_________________________________________________________________\n",
            "dense_4 (Dense)              (None, 8)                 136       \n",
            "_________________________________________________________________\n",
            "dense_5 (Dense)              (None, 2)                 18        \n",
            "=================================================================\n",
            "Total params: 282\n",
            "Trainable params: 282\n",
            "Non-trainable params: 0\n",
            "_________________________________________________________________\n"
          ]
        }
      ]
    },
    {
      "cell_type": "code",
      "metadata": {
        "colab": {
          "base_uri": "https://localhost:8080/"
        },
        "id": "Nnk_Cp0ZKpMB",
        "outputId": "8407c760-a69f-4037-84f6-a04dbdcd370f"
      },
      "source": [
        "#Train the model with the train data\n",
        "model.fit(X_train,Y_train,verbose=True, epochs=30, batch_size=64)"
      ],
      "execution_count": null,
      "outputs": [
        {
          "output_type": "stream",
          "name": "stdout",
          "text": [
            "Train on 6376 samples\n",
            "Epoch 1/30\n",
            "6376/6376 [==============================] - 0s 26us/sample - loss: 0.6306 - acc: 0.7078\n",
            "Epoch 2/30\n",
            "6376/6376 [==============================] - 0s 20us/sample - loss: 0.4463 - acc: 0.8998\n",
            "Epoch 3/30\n",
            "6376/6376 [==============================] - 0s 18us/sample - loss: 0.2646 - acc: 0.9526\n",
            "Epoch 4/30\n",
            "6376/6376 [==============================] - 0s 20us/sample - loss: 0.1742 - acc: 0.9600\n",
            "Epoch 5/30\n",
            "6376/6376 [==============================] - 0s 21us/sample - loss: 0.1332 - acc: 0.9619\n",
            "Epoch 6/30\n",
            "6376/6376 [==============================] - 0s 19us/sample - loss: 0.1090 - acc: 0.9713\n",
            "Epoch 7/30\n",
            "6376/6376 [==============================] - 0s 20us/sample - loss: 0.0948 - acc: 0.9716\n",
            "Epoch 8/30\n",
            "6376/6376 [==============================] - 0s 19us/sample - loss: 0.0840 - acc: 0.9776\n",
            "Epoch 9/30\n",
            "6376/6376 [==============================] - 0s 19us/sample - loss: 0.0765 - acc: 0.9765\n",
            "Epoch 10/30\n",
            "6376/6376 [==============================] - 0s 20us/sample - loss: 0.0706 - acc: 0.9777\n",
            "Epoch 11/30\n",
            "6376/6376 [==============================] - 0s 23us/sample - loss: 0.0651 - acc: 0.9802\n",
            "Epoch 12/30\n",
            "6376/6376 [==============================] - 0s 20us/sample - loss: 0.0603 - acc: 0.9834\n",
            "Epoch 13/30\n",
            "6376/6376 [==============================] - 0s 19us/sample - loss: 0.0571 - acc: 0.9834\n",
            "Epoch 14/30\n",
            "6376/6376 [==============================] - 0s 19us/sample - loss: 0.0533 - acc: 0.9857\n",
            "Epoch 15/30\n",
            "6376/6376 [==============================] - 0s 20us/sample - loss: 0.0510 - acc: 0.9859\n",
            "Epoch 16/30\n",
            "6376/6376 [==============================] - 0s 19us/sample - loss: 0.0478 - acc: 0.9875\n",
            "Epoch 17/30\n",
            "6376/6376 [==============================] - 0s 21us/sample - loss: 0.0454 - acc: 0.9887\n",
            "Epoch 18/30\n",
            "6376/6376 [==============================] - 0s 20us/sample - loss: 0.0445 - acc: 0.9882\n",
            "Epoch 19/30\n",
            "6376/6376 [==============================] - 0s 21us/sample - loss: 0.0417 - acc: 0.9900\n",
            "Epoch 20/30\n",
            "6376/6376 [==============================] - 0s 20us/sample - loss: 0.0396 - acc: 0.9898\n",
            "Epoch 21/30\n",
            "6376/6376 [==============================] - 0s 19us/sample - loss: 0.0380 - acc: 0.9904\n",
            "Epoch 22/30\n",
            "6376/6376 [==============================] - 0s 21us/sample - loss: 0.0366 - acc: 0.9907\n",
            "Epoch 23/30\n",
            "6376/6376 [==============================] - 0s 22us/sample - loss: 0.0354 - acc: 0.9912\n",
            "Epoch 24/30\n",
            "6376/6376 [==============================] - 0s 22us/sample - loss: 0.0341 - acc: 0.9917\n",
            "Epoch 25/30\n",
            "6376/6376 [==============================] - 0s 20us/sample - loss: 0.0344 - acc: 0.9898\n",
            "Epoch 26/30\n",
            "6376/6376 [==============================] - 0s 18us/sample - loss: 0.0322 - acc: 0.9912\n",
            "Epoch 27/30\n",
            "6376/6376 [==============================] - 0s 22us/sample - loss: 0.0308 - acc: 0.9931\n",
            "Epoch 28/30\n",
            "6376/6376 [==============================] - 0s 19us/sample - loss: 0.0303 - acc: 0.9922\n",
            "Epoch 29/30\n",
            "6376/6376 [==============================] - 0s 21us/sample - loss: 0.0297 - acc: 0.9933\n",
            "Epoch 30/30\n",
            "6376/6376 [==============================] - 0s 21us/sample - loss: 0.0283 - acc: 0.9936\n"
          ]
        },
        {
          "output_type": "execute_result",
          "data": {
            "text/plain": [
              "<keras.callbacks.History at 0x7f3490c91e90>"
            ]
          },
          "metadata": {},
          "execution_count": 55
        }
      ]
    },
    {
      "cell_type": "code",
      "metadata": {
        "colab": {
          "base_uri": "https://localhost:8080/"
        },
        "id": "h4tITjBfLs9g",
        "outputId": "64339d35-0a62-493b-f2f0-05027882748b"
      },
      "source": [
        "y_pred = model.predict(X_test)\n",
        "y_pred = [np.argmax(item) for item in y_pred]"
      ],
      "execution_count": null,
      "outputs": [
        {
          "output_type": "stream",
          "name": "stderr",
          "text": [
            "/usr/local/lib/python3.7/dist-packages/keras/engine/training.py:2470: UserWarning: `Model.state_updates` will be removed in a future version. This property should not be used in TensorFlow 2.0, as `updates` are applied automatically.\n",
            "  warnings.warn('`Model.state_updates` will be removed in a future version. '\n"
          ]
        }
      ]
    },
    {
      "cell_type": "code",
      "metadata": {
        "id": "XSgr0ijdsBkh"
      },
      "source": [
        ""
      ],
      "execution_count": null,
      "outputs": []
    },
    {
      "cell_type": "code",
      "metadata": {
        "colab": {
          "base_uri": "https://localhost:8080/",
          "height": 533
        },
        "id": "IqTVTL7eKrDh",
        "outputId": "acaff654-85fa-49d9-e3a4-551c4c03c5f3"
      },
      "source": [
        "from sklearn.metrics import confusion_matrix\n",
        "cm = confusion_matrix(Y_test,y_pred)\n",
        "#plot the confusion matrix\n",
        "ax = plt.subplot()\n",
        "sns.heatmap(cm,annot=True,ax=ax)\n",
        "labels = Y.tolist()\n",
        "ax.set_xlabel('Predicted labels')\n",
        "ax.set_ylabel('True labels')\n",
        "ax.set_title('Confusion Matrix')\n",
        "ax.xaxis.set_ticklabels(['sad','happy'])\n",
        "ax.yaxis.set_ticklabels(['sad','happy'])\n",
        "plt.show()"
      ],
      "execution_count": null,
      "outputs": [
        {
          "output_type": "display_data",
          "data": {
            "image/png": "[encoded data removed]",
            "text/plain": [
              "<Figure size 842.4x595.44 with 2 Axes>"
            ]
          },
          "metadata": {}
        }
      ]
    },
    {
      "cell_type": "code",
      "metadata": {
        "id": "TDwFk6teMJN5",
        "colab": {
          "base_uri": "https://localhost:8080/"
        },
        "outputId": "88e565e2-d174-43b4-82cc-cb1b16e72486"
      },
      "source": [
        "scores = precision_recall_fscore_support(Y_test,y_pred)\n",
        "print(\"Precision of 'Sad' and 'Happy: {}\\nRecall of 'Sad' and 'Happy': {}\\n\".format(scores[0], scores[1]))"
      ],
      "execution_count": null,
      "outputs": [
        {
          "output_type": "stream",
          "name": "stdout",
          "text": [
            "Precision of 'Sad' and 'Happy: [0.95890411 0.99873096]\n",
            "Recall of 'Sad' and 'Happy': [0.99644128 0.98498123]\n",
            "\n"
          ]
        }
      ]
    },
    {
      "cell_type": "code",
      "metadata": {
        "id": "Yj8cZQkqshIX"
      },
      "source": [
        ""
      ],
      "execution_count": null,
      "outputs": []
    }
  ]
}